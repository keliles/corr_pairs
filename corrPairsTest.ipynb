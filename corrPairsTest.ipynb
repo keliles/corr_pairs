{
 "cells": [
  {
   "cell_type": "markdown",
   "metadata": {},
   "source": [
    "# TWSQ Research Paper: Kelile Southwell\n",
    "## Correlated Pairs Trading (Testing Set)"
   ]
  },
  {
   "cell_type": "markdown",
   "metadata": {},
   "source": [
    "1. Get data on returns for TESTING SET"
   ]
  },
  {
   "cell_type": "code",
   "execution_count": 255,
   "metadata": {},
   "outputs": [
    {
     "name": "stderr",
     "output_type": "stream",
     "text": [
      "/var/folders/y9/8pflc5xs1h7_fk5pzvpdplqr0000gn/T/ipykernel_18242/4203273624.py:16: DeprecationWarning: datetime.datetime.utcfromtimestamp() is deprecated and scheduled for removal in a future version. Use timezone-aware objects to represent datetimes in UTC: datetime.datetime.fromtimestamp(timestamp, datetime.UTC).\n",
      "  data['open_time'] = data['open_time'].map(lambda x: datetime.utcfromtimestamp(x/1000))\n",
      "/var/folders/y9/8pflc5xs1h7_fk5pzvpdplqr0000gn/T/ipykernel_18242/4203273624.py:17: DeprecationWarning: datetime.datetime.utcfromtimestamp() is deprecated and scheduled for removal in a future version. Use timezone-aware objects to represent datetimes in UTC: datetime.datetime.fromtimestamp(timestamp, datetime.UTC).\n",
      "  data['close_time'] = data['close_time'].map(lambda x: datetime.utcfromtimestamp(x/1000))\n"
     ]
    }
   ],
   "source": [
    "from binance.client import Client as bnb_client\n",
    "from datetime import datetime\n",
    "import pandas as pd \n",
    "import numpy as np \n",
    "\n",
    "client = bnb_client(tld='US')\n",
    "\n",
    "def get_binance_px(symbol,freq,start_ts = '2024-07-01'):\n",
    "    data = client.get_historical_klines(symbol,freq,start_ts)\n",
    "    columns = ['open_time','open','high','low','close','volume','close_time','quote_volume',\n",
    "    'num_trades','taker_base_volume','taker_quote_volume','ignore']\n",
    "\n",
    "    data = pd.DataFrame(data,columns = columns)\n",
    "    \n",
    "    # Convert from POSIX timestamp (number of millisecond since jan 1, 1970)\n",
    "    data['open_time'] = data['open_time'].map(lambda x: datetime.utcfromtimestamp(x/1000))\n",
    "    data['close_time'] = data['close_time'].map(lambda x: datetime.utcfromtimestamp(x/1000))\n",
    "    return data \n",
    "\n",
    "#these are all of the coins I could find on binance whose data is accessible for USDT and USDC\n",
    "univ = ['BTCUSDC', 'BTCUSDT', \n",
    "        'ETHUSDC', 'ETHUSDT', \n",
    "        'SOLUSDC', 'SOLUSDT', \n",
    "        'ADAUSDC', 'ADAUSDT',\n",
    "        'XRPUSDT', 'XRPUSD', \n",
    "        'AVAXUSDT', 'AVAXUSD',\n",
    "        'BNBUSDT', 'BNBUSD', \n",
    "        'DOGEUSDT', 'DOGEUSD',\n",
    "        'SUIUSDT', 'SUIUSD',\n",
    "        'BCHUSDT', 'BCHUSD',\n",
    "        'LTCUSDT', 'LTCUSD',\n",
    "        'SHIBUSDT', 'SHIBUSD',\n",
    "        'DOTUSDT', 'DOTUSDT',\n",
    "        'PEPEUSDT', 'PEPEUSD',\n",
    "        'AAVEUSDT', 'AAVEUSD',\n",
    "        'UNIUSDT', 'UNIUSD',\n",
    "        'LINKUSDT', 'LINKUSD',\n",
    "        'HBARUSDT', 'HBARUSD',\n",
    "        'XLMUSDT', 'XLMUSD']\n",
    "\n",
    "freq = '1h'\n",
    "px = {}\n",
    "for x in univ:\n",
    "    data = get_binance_px(x,freq)\n",
    "    px[x] = data.set_index('open_time')['close']\n",
    "\n",
    "px = pd.DataFrame(px).astype(float)\n",
    "px = px.reindex(pd.date_range(px.index[0],px.index[-1],freq=freq))\n",
    "ret = px.pct_change()"
   ]
  },
  {
   "cell_type": "code",
   "execution_count": 293,
   "metadata": {},
   "outputs": [],
   "source": [
    "ret_test = ret[\"2024-07-02\":\"2025-07-30\"]"
   ]
  },
  {
   "cell_type": "code",
   "execution_count": 294,
   "metadata": {},
   "outputs": [
    {
     "data": {
      "text/html": [
       "<div>\n",
       "<style scoped>\n",
       "    .dataframe tbody tr th:only-of-type {\n",
       "        vertical-align: middle;\n",
       "    }\n",
       "\n",
       "    .dataframe tbody tr th {\n",
       "        vertical-align: top;\n",
       "    }\n",
       "\n",
       "    .dataframe thead th {\n",
       "        text-align: right;\n",
       "    }\n",
       "</style>\n",
       "<table border=\"1\" class=\"dataframe\">\n",
       "  <thead>\n",
       "    <tr style=\"text-align: right;\">\n",
       "      <th></th>\n",
       "      <th>symbol</th>\n",
       "      <th>price</th>\n",
       "    </tr>\n",
       "  </thead>\n",
       "  <tbody>\n",
       "    <tr>\n",
       "      <th>4</th>\n",
       "      <td>LTCUSD4</td>\n",
       "      <td>96.2100</td>\n",
       "    </tr>\n",
       "    <tr>\n",
       "      <th>10</th>\n",
       "      <td>LTCUSDT</td>\n",
       "      <td>107.69000000</td>\n",
       "    </tr>\n",
       "    <tr>\n",
       "      <th>16</th>\n",
       "      <td>LTCBTC</td>\n",
       "      <td>0.00090100</td>\n",
       "    </tr>\n",
       "    <tr>\n",
       "      <th>356</th>\n",
       "      <td>LTCUSD</td>\n",
       "      <td>107.45000000</td>\n",
       "    </tr>\n",
       "  </tbody>\n",
       "</table>\n",
       "</div>"
      ],
      "text/plain": [
       "      symbol         price\n",
       "4    LTCUSD4       96.2100\n",
       "10   LTCUSDT  107.69000000\n",
       "16    LTCBTC    0.00090100\n",
       "356   LTCUSD  107.45000000"
      ]
     },
     "execution_count": 294,
     "metadata": {},
     "output_type": "execute_result"
    }
   ],
   "source": [
    "all_coins = client.get_all_tickers()\n",
    "all_coins = pd.DataFrame(data=all_coins)\n",
    "all_coins[all_coins['symbol'].str.startswith('LTC')]"
   ]
  },
  {
   "cell_type": "markdown",
   "metadata": {},
   "source": [
    "2. Getting cumulative returns"
   ]
  },
  {
   "cell_type": "code",
   "execution_count": 295,
   "metadata": {},
   "outputs": [],
   "source": [
    "#basic cumulative returns formula\n",
    "cumret_test = ret_test.fillna(0).add(1).cumprod().subtract(1)"
   ]
  },
  {
   "cell_type": "markdown",
   "metadata": {},
   "source": [
    "4. Perform linear regressions to find betas between pairs (will use later for signal generation)"
   ]
  },
  {
   "cell_type": "code",
   "execution_count": 296,
   "metadata": {},
   "outputs": [
    {
     "data": {
      "text/html": [
       "<div>\n",
       "<style scoped>\n",
       "    .dataframe tbody tr th:only-of-type {\n",
       "        vertical-align: middle;\n",
       "    }\n",
       "\n",
       "    .dataframe tbody tr th {\n",
       "        vertical-align: top;\n",
       "    }\n",
       "\n",
       "    .dataframe thead th {\n",
       "        text-align: right;\n",
       "    }\n",
       "</style>\n",
       "<table border=\"1\" class=\"dataframe\">\n",
       "  <thead>\n",
       "    <tr style=\"text-align: right;\">\n",
       "      <th></th>\n",
       "      <th>BTCUSDC/BTCUSDT</th>\n",
       "      <th>ETHUSDC/ETHUSDT</th>\n",
       "      <th>SOLUSDC/SOLUSDT</th>\n",
       "      <th>ADAUSDC/ADAUSDT</th>\n",
       "      <th>XRPUSDT/XRPUSD</th>\n",
       "      <th>AVAXUSDT/AVAXUSD</th>\n",
       "      <th>BNBUSDT/BNBUSD</th>\n",
       "      <th>DOGEUSDT/DOGEUSD</th>\n",
       "      <th>SUIUSDT/SUIUSD</th>\n",
       "      <th>BCHUSDT/BCHUSD</th>\n",
       "      <th>LTCUSDT/LTCUSD</th>\n",
       "      <th>SHIBUSDT/SHIBUSD</th>\n",
       "      <th>PEPEUSDT/PEPEUSD</th>\n",
       "      <th>AAVEUSDT/AAVEUSD</th>\n",
       "      <th>UNIUSDT/UNIUSD</th>\n",
       "      <th>LINKUSDT/LINKUSD</th>\n",
       "      <th>HBARUSDT/HBARUSD</th>\n",
       "      <th>XLMUSDT/XLMUSD</th>\n",
       "    </tr>\n",
       "  </thead>\n",
       "  <tbody>\n",
       "    <tr>\n",
       "      <th>betas</th>\n",
       "      <td>0.996145</td>\n",
       "      <td>1.007536</td>\n",
       "      <td>0.971824</td>\n",
       "      <td>0.999848</td>\n",
       "      <td>0.013223</td>\n",
       "      <td>0.241877</td>\n",
       "      <td>0.175743</td>\n",
       "      <td>-0.040283</td>\n",
       "      <td>-0.003792</td>\n",
       "      <td>0.644036</td>\n",
       "      <td>-0.186646</td>\n",
       "      <td>0.143935</td>\n",
       "      <td>0.09852</td>\n",
       "      <td>-0.019969</td>\n",
       "      <td>0.335842</td>\n",
       "      <td>0.038418</td>\n",
       "      <td>-0.014112</td>\n",
       "      <td>-0.019348</td>\n",
       "    </tr>\n",
       "  </tbody>\n",
       "</table>\n",
       "</div>"
      ],
      "text/plain": [
       "       BTCUSDC/BTCUSDT  ETHUSDC/ETHUSDT  SOLUSDC/SOLUSDT  ADAUSDC/ADAUSDT  \\\n",
       "betas         0.996145         1.007536         0.971824         0.999848   \n",
       "\n",
       "       XRPUSDT/XRPUSD  AVAXUSDT/AVAXUSD  BNBUSDT/BNBUSD  DOGEUSDT/DOGEUSD  \\\n",
       "betas        0.013223          0.241877        0.175743         -0.040283   \n",
       "\n",
       "       SUIUSDT/SUIUSD  BCHUSDT/BCHUSD  LTCUSDT/LTCUSD  SHIBUSDT/SHIBUSD  \\\n",
       "betas       -0.003792        0.644036       -0.186646          0.143935   \n",
       "\n",
       "       PEPEUSDT/PEPEUSD  AAVEUSDT/AAVEUSD  UNIUSDT/UNIUSD  LINKUSDT/LINKUSD  \\\n",
       "betas           0.09852         -0.019969        0.335842          0.038418   \n",
       "\n",
       "       HBARUSDT/HBARUSD  XLMUSDT/XLMUSD  \n",
       "betas         -0.014112       -0.019348  "
      ]
     },
     "execution_count": 296,
     "metadata": {},
     "output_type": "execute_result"
    }
   ],
   "source": [
    "import statsmodels.api as sm\n",
    "\n",
    "all_pair_betas = pd.DataFrame(index=[\"betas\"])\n",
    "processed_pairs = set()\n",
    "#generating betas for each pair with nested for loops\n",
    "for crypto1 in cumret_test.columns:\n",
    "    for crypto2 in cumret_test.columns:\n",
    "        if crypto1 != crypto2 and crypto1[:4] == crypto2[:4]:\n",
    "            # Normalize the pair so that the order doesn't matter (alphabetically sorted)\n",
    "            pair = tuple(sorted([crypto1, crypto2]))\n",
    "            \n",
    "            # Skip the pair if it has already been processed\n",
    "            if pair in processed_pairs:\n",
    "                continue\n",
    "            \n",
    "            # Mark the pair as processed\n",
    "            processed_pairs.add(pair)\n",
    "\n",
    "            model = sm.OLS(cumret_test[crypto2], cumret_test[crypto1]).fit()\n",
    "            beta_value = model.params[crypto1]\n",
    "\n",
    "            pair_name = f\"{crypto1}/{crypto2}\"\n",
    "            all_pair_betas[pair_name] = [beta_value] \n",
    "\n",
    "all_pair_betas"
   ]
  },
  {
   "cell_type": "markdown",
   "metadata": {},
   "source": [
    "5. Signal Generation\n",
    "\n",
    "Using residuals (calculated from betas), get rolling Bollinger Z-Scores of each pair to judge how big the deviation is statistically"
   ]
  },
  {
   "cell_type": "code",
   "execution_count": 297,
   "metadata": {},
   "outputs": [
    {
     "data": {
      "text/html": [
       "<div>\n",
       "<style scoped>\n",
       "    .dataframe tbody tr th:only-of-type {\n",
       "        vertical-align: middle;\n",
       "    }\n",
       "\n",
       "    .dataframe tbody tr th {\n",
       "        vertical-align: top;\n",
       "    }\n",
       "\n",
       "    .dataframe thead th {\n",
       "        text-align: right;\n",
       "    }\n",
       "</style>\n",
       "<table border=\"1\" class=\"dataframe\">\n",
       "  <thead>\n",
       "    <tr style=\"text-align: right;\">\n",
       "      <th></th>\n",
       "      <th>BTCUSDC/BTCUSDT</th>\n",
       "      <th>ETHUSDC/ETHUSDT</th>\n",
       "      <th>SOLUSDC/SOLUSDT</th>\n",
       "      <th>ADAUSDC/ADAUSDT</th>\n",
       "    </tr>\n",
       "  </thead>\n",
       "  <tbody>\n",
       "    <tr>\n",
       "      <th>2024-07-02 00:00:00</th>\n",
       "      <td>NaN</td>\n",
       "      <td>NaN</td>\n",
       "      <td>NaN</td>\n",
       "      <td>NaN</td>\n",
       "    </tr>\n",
       "    <tr>\n",
       "      <th>2024-07-02 01:00:00</th>\n",
       "      <td>NaN</td>\n",
       "      <td>NaN</td>\n",
       "      <td>NaN</td>\n",
       "      <td>NaN</td>\n",
       "    </tr>\n",
       "    <tr>\n",
       "      <th>2024-07-02 02:00:00</th>\n",
       "      <td>-57.795622</td>\n",
       "      <td>21.565685</td>\n",
       "      <td>300.000000</td>\n",
       "      <td>-8.105554</td>\n",
       "    </tr>\n",
       "    <tr>\n",
       "      <th>2024-07-02 03:00:00</th>\n",
       "      <td>-45.498318</td>\n",
       "      <td>85.345612</td>\n",
       "      <td>25.121795</td>\n",
       "      <td>-60.132627</td>\n",
       "    </tr>\n",
       "    <tr>\n",
       "      <th>2024-07-02 04:00:00</th>\n",
       "      <td>18.338879</td>\n",
       "      <td>-121.852771</td>\n",
       "      <td>20.166609</td>\n",
       "      <td>-5.076438</td>\n",
       "    </tr>\n",
       "    <tr>\n",
       "      <th>...</th>\n",
       "      <td>...</td>\n",
       "      <td>...</td>\n",
       "      <td>...</td>\n",
       "      <td>...</td>\n",
       "    </tr>\n",
       "    <tr>\n",
       "      <th>2025-07-30 19:00:00</th>\n",
       "      <td>-3.539231</td>\n",
       "      <td>-12.807257</td>\n",
       "      <td>3.195294</td>\n",
       "      <td>0.375155</td>\n",
       "    </tr>\n",
       "    <tr>\n",
       "      <th>2025-07-30 20:00:00</th>\n",
       "      <td>-9.786777</td>\n",
       "      <td>-15.839775</td>\n",
       "      <td>-0.937621</td>\n",
       "      <td>-18.510590</td>\n",
       "    </tr>\n",
       "    <tr>\n",
       "      <th>2025-07-30 21:00:00</th>\n",
       "      <td>-7.143088</td>\n",
       "      <td>-28.585130</td>\n",
       "      <td>-9.125572</td>\n",
       "      <td>-18.427753</td>\n",
       "    </tr>\n",
       "    <tr>\n",
       "      <th>2025-07-30 22:00:00</th>\n",
       "      <td>7.755682</td>\n",
       "      <td>-26.325730</td>\n",
       "      <td>-1.278742</td>\n",
       "      <td>-34.479568</td>\n",
       "    </tr>\n",
       "    <tr>\n",
       "      <th>2025-07-30 23:00:00</th>\n",
       "      <td>21.901710</td>\n",
       "      <td>0.351901</td>\n",
       "      <td>-17.220041</td>\n",
       "      <td>-5.772412</td>\n",
       "    </tr>\n",
       "  </tbody>\n",
       "</table>\n",
       "<p>9456 rows × 4 columns</p>\n",
       "</div>"
      ],
      "text/plain": [
       "                     BTCUSDC/BTCUSDT  ETHUSDC/ETHUSDT  SOLUSDC/SOLUSDT  \\\n",
       "2024-07-02 00:00:00              NaN              NaN              NaN   \n",
       "2024-07-02 01:00:00              NaN              NaN              NaN   \n",
       "2024-07-02 02:00:00       -57.795622        21.565685       300.000000   \n",
       "2024-07-02 03:00:00       -45.498318        85.345612        25.121795   \n",
       "2024-07-02 04:00:00        18.338879      -121.852771        20.166609   \n",
       "...                              ...              ...              ...   \n",
       "2025-07-30 19:00:00        -3.539231       -12.807257         3.195294   \n",
       "2025-07-30 20:00:00        -9.786777       -15.839775        -0.937621   \n",
       "2025-07-30 21:00:00        -7.143088       -28.585130        -9.125572   \n",
       "2025-07-30 22:00:00         7.755682       -26.325730        -1.278742   \n",
       "2025-07-30 23:00:00        21.901710         0.351901       -17.220041   \n",
       "\n",
       "                     ADAUSDC/ADAUSDT  \n",
       "2024-07-02 00:00:00              NaN  \n",
       "2024-07-02 01:00:00              NaN  \n",
       "2024-07-02 02:00:00        -8.105554  \n",
       "2024-07-02 03:00:00       -60.132627  \n",
       "2024-07-02 04:00:00        -5.076438  \n",
       "...                              ...  \n",
       "2025-07-30 19:00:00         0.375155  \n",
       "2025-07-30 20:00:00       -18.510590  \n",
       "2025-07-30 21:00:00       -18.427753  \n",
       "2025-07-30 22:00:00       -34.479568  \n",
       "2025-07-30 23:00:00        -5.772412  \n",
       "\n",
       "[9456 rows x 4 columns]"
      ]
     },
     "execution_count": 297,
     "metadata": {},
     "output_type": "execute_result"
    }
   ],
   "source": [
    "all_residuals = pd.DataFrame(index=cumret_test.index, columns=all_pair_betas.columns)\n",
    "all_signals = pd.DataFrame(index=cumret_test.index, columns=all_pair_betas.columns)\n",
    "\n",
    "#generating betas for each pair with nested for loops\n",
    "for crypto_pair in all_residuals:\n",
    "     if 0.8 < all_pair_betas[crypto_pair].values[0] < 1.2:\n",
    "          crypto1, crypto2 = crypto_pair.split('/')\n",
    "\n",
    "          beta = all_pair_betas[crypto_pair].values[0]\n",
    "          all_residuals[crypto_pair] = cumret_test[crypto2] - all_pair_betas[crypto_pair].values[0] * cumret_test[crypto1]\n",
    "\n",
    "for crypto_pair in all_signals:\n",
    "      if 0.8 < all_pair_betas[crypto_pair].values[0] < 1.2:\n",
    "           all_signals[crypto_pair] = (all_residuals[crypto_pair] - all_residuals[crypto_pair].rolling(365, min_periods=1, closed='left').mean() ) / all_residuals[crypto_pair].rolling(365, min_periods=1, closed='left').std() * np.sqrt(365)\n",
    "\n",
    "all_signals = all_signals.dropna(axis=1, how='all')\n",
    "all_signals[all_signals > 300] = 300\n",
    "all_signals"
   ]
  },
  {
   "cell_type": "markdown",
   "metadata": {},
   "source": [
    "6. Confirm that the distrubution of the signals appears normal"
   ]
  },
  {
   "cell_type": "code",
   "execution_count": 298,
   "metadata": {},
   "outputs": [
    {
     "data": {
      "image/png": "[encoded data removed]",
      "text/plain": [
       "<Figure size 640x480 with 1 Axes>"
      ]
     },
     "metadata": {},
     "output_type": "display_data"
    }
   ],
   "source": [
    "import matplotlib.pyplot as plt\n",
    "\n",
    "#the distribution of the Bollinger Z-Scores (another safety check: if tails are too heavy, or distribution isn't centered, something is off)\n",
    "plt.hist(all_signals['ETHUSDC/ETHUSDT'], bins=30)\n",
    "plt.show()"
   ]
  },
  {
   "cell_type": "markdown",
   "metadata": {},
   "source": [
    "7. Entrance\n",
    "\n",
    "Signals above 1 std indicate that the deviation will revert within the day. The prediction coin is shorted, and the predicted coin is bought. The coin is held until the signal falls below 1. \n",
    "\n",
    "NOTE: raising the signal threshold will lower tcosts, but will lower sharpe."
   ]
  },
  {
   "cell_type": "code",
   "execution_count": 358,
   "metadata": {},
   "outputs": [
    {
     "name": "stdout",
     "output_type": "stream",
     "text": [
      "                     BTCUSDC  ETHUSDC  SOLUSDC  ADAUSDC\n",
      "2025-07-30 19:00:00      0.0      0.0      0.0      0.0\n",
      "2025-07-30 20:00:00      0.0      0.0      0.0      0.0\n",
      "2025-07-30 21:00:00      0.0      0.0      0.0      0.0\n",
      "2025-07-30 22:00:00      0.0      0.0      0.0      0.0\n",
      "2025-07-30 23:00:00      0.0      0.0      0.0      0.0\n"
     ]
    },
    {
     "name": "stderr",
     "output_type": "stream",
     "text": [
      "/var/folders/y9/8pflc5xs1h7_fk5pzvpdplqr0000gn/T/ipykernel_18242/4201252973.py:11: FutureWarning: Downcasting object dtype arrays on .fillna, .ffill, .bfill is deprecated and will change in a future version. Call result.infer_objects(copy=False) instead. To opt-in to the future behavior, set `pd.set_option('future.no_silent_downcasting', True)`\n",
      "  all_weights = all_weights.dropna(axis=1, how='all').fillna(0)\n"
     ]
    }
   ],
   "source": [
    "all_weights = pd.DataFrame(index= cumret_test.index, columns=cumret_test.columns)\n",
    "\n",
    "for crypto_pair in all_signals:\n",
    "    crypto1, crypto2 = crypto_pair.split('/')\n",
    "    signal_threshold = 30\n",
    "    mask1 = all_signals[crypto_pair] > signal_threshold\n",
    "    all_weights.loc[mask1, crypto1] = (1/ (all_signals[mask1] >  signal_threshold).sum(axis=1))\n",
    "\n",
    "all_weights = all_weights.dropna(axis=1, how='all').fillna(0)\n",
    "print(all_weights.tail())"
   ]
  },
  {
   "cell_type": "markdown",
   "metadata": {},
   "source": [
    "8. Trading Frequency\n",
    "\n",
    "A table to show how often trades are entered"
   ]
  },
  {
   "cell_type": "code",
   "execution_count": 359,
   "metadata": {},
   "outputs": [
    {
     "data": {
      "text/plain": [
       "BTCUSDC    147.75\n",
       "ETHUSDC    165.25\n",
       "SOLUSDC    163.75\n",
       "ADAUSDC    148.00\n",
       "dtype: float64"
      ]
     },
     "execution_count": 359,
     "metadata": {},
     "output_type": "execute_result"
    }
   ],
   "source": [
    "#how frequently i'm making trades\n",
    "freq = all_weights.astype(bool).sum() / len(all_weights.columns)\n",
    "freq "
   ]
  },
  {
   "cell_type": "markdown",
   "metadata": {},
   "source": [
    "9. Returns"
   ]
  },
  {
   "cell_type": "code",
   "execution_count": 360,
   "metadata": {},
   "outputs": [
    {
     "data": {
      "text/plain": [
       "<Axes: >"
      ]
     },
     "execution_count": 360,
     "metadata": {},
     "output_type": "execute_result"
    },
    {
     "data": {
      "image/png": "[encoded data removed]",
      "text/plain": [
       "<Figure size 640x480 with 1 Axes>"
      ]
     },
     "metadata": {},
     "output_type": "display_data"
    }
   ],
   "source": [
    "#fix: once we have our mulit-indexed dataframe of asset weights, we can get the sharpe of each strategy and output the mean, std, and sharpe into a table to display for the project\n",
    "port_ret_test = (ret_test * all_weights.shift()).sum(1)\n",
    "\n",
    "port_ret_test.cumsum().plot()"
   ]
  },
  {
   "cell_type": "markdown",
   "metadata": {},
   "source": [
    "10. Beta and Alpha\n",
    "\n",
    "Getting $SPY returns to calculate beta and alpha"
   ]
  },
  {
   "cell_type": "code",
   "execution_count": 362,
   "metadata": {},
   "outputs": [
    {
     "name": "stderr",
     "output_type": "stream",
     "text": [
      "/var/folders/y9/8pflc5xs1h7_fk5pzvpdplqr0000gn/T/ipykernel_18242/2713887481.py:3: FutureWarning: YF.download() has changed argument auto_adjust default to True\n",
      "  spy = yf.download(\"SPY\", start=\"2023-07-02\", end='2025-07-30')['Close']\n",
      "[*********************100%***********************]  1 of 1 completed\n"
     ]
    }
   ],
   "source": [
    "import yfinance as yf\n",
    "\n",
    "spy = yf.download(\"SPY\", start=\"2023-07-02\", end='2025-07-30')['Close']\n",
    "spy_ret = spy.pct_change()"
   ]
  },
  {
   "cell_type": "markdown",
   "metadata": {},
   "source": [
    "11. Performing Linear Regression"
   ]
  },
  {
   "cell_type": "code",
   "execution_count": 363,
   "metadata": {},
   "outputs": [
    {
     "name": "stdout",
     "output_type": "stream",
     "text": [
      "const    0.001521\n",
      "SPY      0.100126\n",
      "dtype: float64\n",
      "const    4.186877\n",
      "SPY      3.452239\n",
      "dtype: float64\n"
     ]
    }
   ],
   "source": [
    "X = spy_ret[['SPY']].fillna(0)\n",
    "X = sm.add_constant(X)\n",
    "\n",
    "\n",
    "Y = pd.DataFrame({\"returns\": port_ret_test}).dropna()\n",
    "X, Y = X.align(Y, join='inner', axis=0)\n",
    "results = sm.OLS(Y[[\"returns\"]], X).fit()\n",
    "print(results.params)\n",
    "print(results.tvalues)"
   ]
  },
  {
   "cell_type": "markdown",
   "metadata": {},
   "source": [
    "12. Getting Beta and Alpha Contributions"
   ]
  },
  {
   "cell_type": "code",
   "execution_count": 364,
   "metadata": {},
   "outputs": [],
   "source": [
    "beta_contr = results.params['SPY']*X['SPY']\n",
    "prediction = results.params['SPY']*X['SPY'] + results.params['const']\n",
    "alpha_contr = results.params['const'] + results.resid"
   ]
  },
  {
   "cell_type": "markdown",
   "metadata": {},
   "source": [
    "13. Calculating turnover and returns net of trading costs"
   ]
  },
  {
   "cell_type": "code",
   "execution_count": 365,
   "metadata": {},
   "outputs": [],
   "source": [
    "tcost = 20\n",
    "\n",
    "turnover = (all_weights - all_weights.shift()).abs().sum(1)\n",
    "net_ret =  port_ret_test.subtract(turnover*tcost*1e-4, fill_value=0)"
   ]
  },
  {
   "cell_type": "markdown",
   "metadata": {},
   "source": [
    "14. Calculating drawdown duration maximum and performance summary for testING SET"
   ]
  },
  {
   "cell_type": "code",
   "execution_count": 366,
   "metadata": {},
   "outputs": [
    {
     "name": "stdout",
     "output_type": "stream",
     "text": [
      "mean              0.510066\n",
      "std               0.129876\n",
      "gross sharpe      3.927321\n",
      "net sharpe        2.226522\n",
      "max drawdown    104.000000\n",
      "alpha             0.001521\n",
      "beta              0.000069\n",
      "dtype: object\n"
     ]
    }
   ],
   "source": [
    "def ddd(port_ret):\n",
    "    cumulative = port_ret_test.add(1).cumprod()\n",
    "    peak = cumulative.cummax()\n",
    "    underwater = cumulative < peak\n",
    "\n",
    "    duration = pd.Series(0, index=port_ret_test.index)\n",
    "    count = 0\n",
    "\n",
    "    for i in range(len(port_ret_test)):\n",
    "        if underwater.iloc[i]:\n",
    "            count += 1\n",
    "            duration.iloc[i] = count\n",
    "        else:\n",
    "            count = 0\n",
    "            duration.iloc[i] = 0\n",
    "\n",
    "    return duration\n",
    "\n",
    "\n",
    "uncon_backtest_summary = {}\n",
    "uncon_backtest_summary[\"mean\"] = port_ret_test.mean() * 365\n",
    "uncon_backtest_summary[\"std\"] = port_ret_test.std() * np.sqrt(365)\n",
    "uncon_backtest_summary[\"gross sharpe\"] = port_ret_test.mean() / port_ret_test.std() * np.sqrt(365)\n",
    "uncon_backtest_summary[\"net sharpe\"] = net_ret.mean() / net_ret.std() * np.sqrt(365)\n",
    "uncon_backtest_summary[\"max drawdown\"] = ddd(port_ret_test).max()\n",
    "uncon_backtest_summary[\"alpha\"] = alpha_contr.mean()\n",
    "uncon_backtest_summary[\"beta\"] = beta_contr.mean()\n",
    "uncon_backtest_summary = pd.Series(data=uncon_backtest_summary)\n",
    "formatted_summary = uncon_backtest_summary.map(lambda x: f\"{x:.6f}\")\n",
    "print(formatted_summary)\n"
   ]
  }
 ],
 "metadata": {
  "kernelspec": {
   "display_name": "Python 3",
   "language": "python",
   "name": "python3"
  },
  "language_info": {
   "codemirror_mode": {
    "name": "ipython",
    "version": 3
   },
   "file_extension": ".py",
   "mimetype": "text/x-python",
   "name": "python",
   "nbconvert_exporter": "python",
   "pygments_lexer": "ipython3",
   "version": "3.12.3"
  }
 },
 "nbformat": 4,
 "nbformat_minor": 2
}
